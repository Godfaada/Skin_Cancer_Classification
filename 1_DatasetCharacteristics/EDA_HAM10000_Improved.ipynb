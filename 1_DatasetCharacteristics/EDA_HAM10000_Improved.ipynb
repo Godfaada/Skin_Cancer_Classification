{
 "cells": [
  {
   "cell_type": "markdown",
   "id": "afca7dae",
   "metadata": {},
   "source": [
    "# Exploratory Data Analysis (EDA) on HAM10000 Skin Cancer Dataset"
   ]
  },
  {
   "cell_type": "code",
   "execution_count": null,
   "id": "f14b16d4",
   "metadata": {},
   "outputs": [],
   "source": [
    "import pandas as pd\n",
    "import numpy as np\n",
    "import matplotlib.pyplot as plt\n",
    "import seaborn as sns\n",
    "import plotly.express as px\n",
    "\n",
    "# Set plotting style\n",
    "sns.set(style=\"whitegrid\")\n"
   ]
  },
  {
   "cell_type": "code",
   "execution_count": null,
   "id": "e3fb140e",
   "metadata": {},
   "outputs": [],
   "source": [
    "# Load the metadata CSV\n",
    "csv_path = \"HAM10000_metadata.csv\"\n",
    "df = pd.read_csv(csv_path)\n",
    "\n",
    "# Show the first few rows\n",
    "df.head()\n"
   ]
  },
  {
   "cell_type": "markdown",
   "id": "c7d0daf8",
   "metadata": {},
   "source": [
    "## Dataset Overview"
   ]
  },
  {
   "cell_type": "code",
   "execution_count": null,
   "id": "e01f77dc",
   "metadata": {},
   "outputs": [],
   "source": [
    "# Basic info and summary statistics\n",
    "print(\"Dataset Info:\")\n",
    "df.info()\n",
    "\n",
    "print(\"\\nSummary Statistics:\")\n",
    "df.describe(include='all')\n"
   ]
  },
  {
   "cell_type": "markdown",
   "id": "ce121a68",
   "metadata": {},
   "source": [
    "## Missing Values"
   ]
  },
  {
   "cell_type": "code",
   "execution_count": null,
   "id": "a3335b50",
   "metadata": {},
   "outputs": [],
   "source": [
    "# Show missing values\n",
    "missing = df.isnull().sum()\n",
    "print(\"Missing Values Per Column:\\n\", missing)\n"
   ]
  },
  {
   "cell_type": "markdown",
   "id": "57de8615",
   "metadata": {},
   "source": [
    "## Class Distributions"
   ]
  },
  {
   "cell_type": "code",
   "execution_count": null,
   "id": "742dfffe",
   "metadata": {},
   "outputs": [],
   "source": [
    "# Diagnosis distribution\n",
    "plt.figure(figsize=(8,5))\n",
    "sns.countplot(x='dx', data=df, order=df['dx'].value_counts().index)\n",
    "plt.title(\"Diagnosis Distribution\")\n",
    "plt.xticks(rotation=45)\n",
    "plt.show()\n",
    "\n",
    "# Gender distribution\n",
    "plt.figure(figsize=(6,4))\n",
    "sns.countplot(x='sex', data=df)\n",
    "plt.title(\"Gender Distribution\")\n",
    "plt.show()\n"
   ]
  },
  {
   "cell_type": "markdown",
   "id": "3b97a5ac",
   "metadata": {},
   "source": [
    "## Age Distribution"
   ]
  },
  {
   "cell_type": "code",
   "execution_count": null,
   "id": "a6d3da1a",
   "metadata": {},
   "outputs": [],
   "source": [
    "plt.figure(figsize=(8,5))\n",
    "sns.histplot(df['age'].dropna(), bins=30, kde=True)\n",
    "plt.title(\"Age Distribution of Patients\")\n",
    "plt.xlabel(\"Age\")\n",
    "plt.ylabel(\"Count\")\n",
    "plt.show()\n"
   ]
  },
  {
   "cell_type": "markdown",
   "id": "2bb905d3",
   "metadata": {},
   "source": [
    "## Correlations"
   ]
  },
  {
   "cell_type": "code",
   "execution_count": null,
   "id": "f169100d",
   "metadata": {},
   "outputs": [],
   "source": [
    "# Correlation matrix for numerical features\n",
    "corr = df[['age']].corr()\n",
    "sns.heatmap(corr, annot=True, cmap='coolwarm')\n",
    "plt.title(\"Correlation Matrix\")\n",
    "plt.show()\n"
   ]
  },
  {
   "cell_type": "markdown",
   "id": "c332f468",
   "metadata": {},
   "source": [
    "## Possible Biases in Data"
   ]
  },
  {
   "cell_type": "code",
   "execution_count": null,
   "id": "f943184c",
   "metadata": {},
   "outputs": [],
   "source": [
    "# Cross tab between gender and diagnosis\n",
    "bias_df = pd.crosstab(df['sex'], df['dx'], normalize='index') * 100\n",
    "bias_df.plot(kind='bar', stacked=True, figsize=(10,6), colormap='tab20')\n",
    "plt.title(\"Diagnosis Distribution by Gender (%)\")\n",
    "plt.ylabel(\"Percentage\")\n",
    "plt.legend(title=\"Diagnosis\", bbox_to_anchor=(1.05, 1), loc='upper left')\n",
    "plt.tight_layout()\n",
    "plt.show()\n"
   ]
  }
 ],
 "metadata": {},
 "nbformat": 4,
 "nbformat_minor": 5
}
